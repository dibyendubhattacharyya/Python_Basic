{
  "nbformat": 4,
  "nbformat_minor": 0,
  "metadata": {
    "colab": {
      "provenance": []
    },
    "kernelspec": {
      "name": "python3",
      "display_name": "Python 3"
    },
    "language_info": {
      "name": "python"
    }
  },
  "cells": [
    {
      "cell_type": "code",
      "execution_count": null,
      "metadata": {
        "id": "KGWgO2bajY1q"
      },
      "outputs": [],
      "source": []
    },
    {
      "cell_type": "markdown",
      "source": [
        "# Python Basic\n"
      ],
      "metadata": {
        "id": "aY4bXGCcAAFd"
      }
    },
    {
      "cell_type": "markdown",
      "source": [
        "# 1. What is Python, and why is it popular?\n",
        "\"\"\"Python is a high-level, interpreted programming language known for its simple and readable syntax. It is widely used in data science, web development, automation, AI, and more. Its popularity comes from its ease of learning, vast libraries, cross-platform support, and large community. Python enables rapid development and is ideal for both beginners and professionals. \"\"\""
      ],
      "metadata": {
        "id": "4qHJ3R9vAEK_"
      }
    },
    {
      "cell_type": "code",
      "source": [],
      "metadata": {
        "id": "4pwh3WT9AO_l"
      },
      "execution_count": null,
      "outputs": []
    },
    {
      "cell_type": "markdown",
      "source": [
        "#2. What is an interpreter in Python ?\n",
        "\"\"\"An interpreter in Python is a program that reads and executes Python code line by line. It translates high-level Python instructions into machine code during runtime. This makes it easier to test, debug, and run code without needing to compile it first.\"\"\""
      ],
      "metadata": {
        "id": "5kYANdHEAtCe"
      }
    },
    {
      "cell_type": "markdown",
      "source": [],
      "metadata": {
        "id": "Ni9zFSvLAQG4"
      }
    },
    {
      "cell_type": "markdown",
      "source": [
        "# 3. What are pre-defined keywords in Python ?\n",
        "\"\"\"Pre-defined keywords in Python are reserved words that have special meanings and are used to define the syntax and structure of Python code. You cannot use them as variable names. \"\"\""
      ],
      "metadata": {
        "id": "VEWthPW1A9Jl"
      }
    },
    {
      "cell_type": "code",
      "source": [],
      "metadata": {
        "id": "1MalNBVKBHd_"
      },
      "execution_count": null,
      "outputs": []
    },
    {
      "cell_type": "markdown",
      "source": [
        "# 4. Can keywords be used as variable names ?\n",
        "\"\"\"No, keywords cannot be used as variable names in Python. They are reserved words with special meanings in the language, and using them as variable names will result in a syntax error\"\"\""
      ],
      "metadata": {
        "id": "bX0zM9g1BIKG"
      }
    },
    {
      "cell_type": "code",
      "source": [],
      "metadata": {
        "id": "6mB2reg9BUh8"
      },
      "execution_count": null,
      "outputs": []
    },
    {
      "cell_type": "markdown",
      "source": [
        "# 5. What is mutability in Python ?\n",
        "\"\"\"Mutability in Python refers to whether an object’s value can be changed after it is created.\n",
        "\n",
        "Mutable objects (like lists, dictionaries, sets) can be modified.\n",
        "\n",
        "Immutable objects (like strings, tuples, integers) cannot be changed once created.\n",
        "This affects how data behaves when assigned or passed to functions.\"\"\""
      ],
      "metadata": {
        "id": "RXxZnENgBa6H"
      }
    },
    {
      "cell_type": "code",
      "source": [],
      "metadata": {
        "id": "uIiTnP1HBkWV"
      },
      "execution_count": null,
      "outputs": []
    },
    {
      "cell_type": "markdown",
      "source": [
        "# 6. Why are lists mutable, but tuples are immutable ?\n",
        "\"\"\"Lists are mutable because they are designed to store collections of items that can change—elements can be added, removed, or modified.\n",
        "Tuples are immutable to ensure data integrity and faster performance, especially when used as keys in dictionaries or in situations where the data should remain constant.\n",
        "This design helps Python optimize memory and maintain consistency in data structures.\"\"\""
      ],
      "metadata": {
        "id": "uu_iS2eWBk7g"
      }
    },
    {
      "cell_type": "code",
      "source": [],
      "metadata": {
        "id": "5XSctKjABv1U"
      },
      "execution_count": null,
      "outputs": []
    },
    {
      "cell_type": "markdown",
      "source": [
        "# 7. What is the difference between “==” and “is” operators in Python ?\n",
        "\"\"\"In Python:\n",
        "\n",
        "== checks for value equality : it tests whether two variables have the same value.\n",
        "\n",
        "is checks for identity : it tests whether two variables refer to the same object in memory.\"\"\"\n",
        "\n"
      ],
      "metadata": {
        "id": "I-KczuqrBwZy"
      }
    },
    {
      "cell_type": "code",
      "source": [],
      "metadata": {
        "id": "q2znaC5KCE6I"
      },
      "execution_count": null,
      "outputs": []
    },
    {
      "cell_type": "markdown",
      "source": [
        "# 8. What are logical operators in Python ?\n",
        "\"\"\"Logical operators in Python are used to combine conditional statements. The three main logical operators are:\n",
        "\n",
        "and : Returns True if both conditions are true.\n",
        "\n",
        "or : Returns True if at least one condition is true.\n",
        "\n",
        "not : Reverses the truth value of the condition.\"\"\""
      ],
      "metadata": {
        "id": "xdwgWx-1CFfC"
      }
    },
    {
      "cell_type": "markdown",
      "source": [
        "# 9. What is type casting in Python?\n",
        "\"\"\"Type casting in Python is the process of converting one data type to another.\"\"\""
      ],
      "metadata": {
        "id": "CuTNiD1vCaCf"
      }
    },
    {
      "cell_type": "markdown",
      "source": [],
      "metadata": {
        "id": "Qbmnt8VlCVe3"
      }
    },
    {
      "cell_type": "markdown",
      "source": [
        "# 10. What is the difference between implicit and explicit type casting ?\n",
        "\"\"\"Implicit type casting is done automatically by Python, where it safely converts one data type to another.\n",
        "Explicit type casting is done manually by the programmer using functions.\"\"\""
      ],
      "metadata": {
        "id": "i5F9MUwrCn-c"
      }
    },
    {
      "cell_type": "code",
      "source": [],
      "metadata": {
        "id": "YRpPqkSQC7nB"
      },
      "execution_count": null,
      "outputs": []
    },
    {
      "cell_type": "markdown",
      "source": [
        "# 11. What is the purpose of conditional statements in Python ?\n",
        "\"\"\"The purpose of conditional statements in Python is to allow the program to make decisions and execute different blocks of code based on certain conditions.\"\"\""
      ],
      "metadata": {
        "id": "bJALYTwKC8Wy"
      }
    },
    {
      "cell_type": "code",
      "source": [],
      "metadata": {
        "id": "7KDVzUGODGpE"
      },
      "execution_count": null,
      "outputs": []
    },
    {
      "cell_type": "markdown",
      "source": [
        "# 12. How does the elif statement work ?\n",
        "\"\"\"The elif statement in Python is used to check another condition if the first if condition is false. It lets you check many conditions one after another.\"\"\""
      ],
      "metadata": {
        "id": "0ca-LiH3DHkG"
      }
    },
    {
      "cell_type": "code",
      "source": [],
      "metadata": {
        "id": "6HV0YNYYDYtE"
      },
      "execution_count": null,
      "outputs": []
    },
    {
      "cell_type": "markdown",
      "source": [
        "# 13. What is the difference between for and while loops ?\n",
        "\"\"\"The difference between for and while loops in Python is:\n",
        "\n",
        "For loop is used when you know in advance how many times to repeat.\n",
        "\n",
        "While loop is used when you want to repeat until a condition becomes false.\"\"\"\n",
        "\n"
      ],
      "metadata": {
        "id": "nLaczptrDZYV"
      }
    },
    {
      "cell_type": "code",
      "source": [],
      "metadata": {
        "id": "5cjxiqTODpCM"
      },
      "execution_count": null,
      "outputs": []
    },
    {
      "cell_type": "markdown",
      "source": [
        "# 14. Describe a scenario where a while loop is more suitable than a for loop.\n",
        "\"\"\"A while loop is more suitable when you don’t know beforehand how many times the loop should run. It continues to repeat as long as a certain condition is true. This is useful in situations like waiting for user input, checking for a sensor signal, or running a process until a specific condition is met.\"\"\"\n",
        "\n",
        "\n",
        "\n",
        "\n",
        "\n",
        "\n",
        "\n",
        "\n",
        "\n",
        "\n"
      ],
      "metadata": {
        "id": "er2dK6R0DtUV"
      }
    },
    {
      "cell_type": "markdown",
      "source": [
        "# Practical Questions"
      ],
      "metadata": {
        "id": "UfephIgrDra3"
      }
    },
    {
      "cell_type": "markdown",
      "source": [
        "# 1. Write a Python program to print \"Hello, World!\""
      ],
      "metadata": {
        "id": "DFnVdIp7ENpV"
      }
    },
    {
      "cell_type": "code",
      "source": [
        "print(\"Hello, World!\")"
      ],
      "metadata": {
        "colab": {
          "base_uri": "https://localhost:8080/"
        },
        "id": "zlnZGb_CEdZt",
        "outputId": "b626a70c-0a3f-483d-fbf1-2306858bb939"
      },
      "execution_count": 1,
      "outputs": [
        {
          "output_type": "stream",
          "name": "stdout",
          "text": [
            "Hello, World!\n"
          ]
        }
      ]
    },
    {
      "cell_type": "markdown",
      "source": [
        "# 2.  Write a Python program that displays your name and age"
      ],
      "metadata": {
        "id": "yZEKft1jEh1v"
      }
    },
    {
      "cell_type": "code",
      "source": [
        "name = \"Dibyendu Bhattacharyya\"\n",
        "age = 27\n",
        "\n",
        "print(\"My name is\", name)\n",
        "print(\"I am\", age, \"years old\")"
      ],
      "metadata": {
        "colab": {
          "base_uri": "https://localhost:8080/"
        },
        "id": "tyzxK2HkEvo2",
        "outputId": "adc50041-a0d7-45fc-99be-2b820c0492ea"
      },
      "execution_count": 2,
      "outputs": [
        {
          "output_type": "stream",
          "name": "stdout",
          "text": [
            "My name is Dibyendu Bhattacharyya\n",
            "I am 27 years old\n"
          ]
        }
      ]
    },
    {
      "cell_type": "markdown",
      "source": [
        "# 3. Write code to print all the pre-defined keywords in Python using the keyword library."
      ],
      "metadata": {
        "id": "X4_k3jLXE5yt"
      }
    },
    {
      "cell_type": "code",
      "source": [
        "import keyword\n",
        "\n",
        "keyword.kwlist"
      ],
      "metadata": {
        "colab": {
          "base_uri": "https://localhost:8080/"
        },
        "id": "fPgJoYENFD6w",
        "outputId": "2da4e4b5-9d60-40e4-cf6a-7daf523a4301"
      },
      "execution_count": 3,
      "outputs": [
        {
          "output_type": "execute_result",
          "data": {
            "text/plain": [
              "['False',\n",
              " 'None',\n",
              " 'True',\n",
              " 'and',\n",
              " 'as',\n",
              " 'assert',\n",
              " 'async',\n",
              " 'await',\n",
              " 'break',\n",
              " 'class',\n",
              " 'continue',\n",
              " 'def',\n",
              " 'del',\n",
              " 'elif',\n",
              " 'else',\n",
              " 'except',\n",
              " 'finally',\n",
              " 'for',\n",
              " 'from',\n",
              " 'global',\n",
              " 'if',\n",
              " 'import',\n",
              " 'in',\n",
              " 'is',\n",
              " 'lambda',\n",
              " 'nonlocal',\n",
              " 'not',\n",
              " 'or',\n",
              " 'pass',\n",
              " 'raise',\n",
              " 'return',\n",
              " 'try',\n",
              " 'while',\n",
              " 'with',\n",
              " 'yield']"
            ]
          },
          "metadata": {},
          "execution_count": 3
        }
      ]
    },
    {
      "cell_type": "markdown",
      "source": [
        "# 4.  Write a program that checks if a given word is a Python keyword."
      ],
      "metadata": {
        "id": "2YH2-3UpFF0n"
      }
    },
    {
      "cell_type": "code",
      "source": [
        "import keyword\n",
        "\n",
        "word = input(\"Enter a word: \")\n",
        "\n",
        "if keyword.iskeyword(word):\n",
        "    print(\"It is a Python keyword.\")\n",
        "else:\n",
        "    print(\"It is not a Python keyword.\")\n"
      ],
      "metadata": {
        "colab": {
          "base_uri": "https://localhost:8080/"
        },
        "id": "vW0-EWvaFcjd",
        "outputId": "dffaec87-7d5a-4816-dd66-861c0fa28c1e"
      },
      "execution_count": 4,
      "outputs": [
        {
          "output_type": "stream",
          "name": "stdout",
          "text": [
            "Enter a word: 4\n",
            "It is not a Python keyword.\n"
          ]
        }
      ]
    },
    {
      "cell_type": "markdown",
      "source": [
        "# 5. Create a list and tuple in Python, and demonstrate how attempting to change an element works differently for each."
      ],
      "metadata": {
        "id": "LgM-qfqfFgta"
      }
    },
    {
      "cell_type": "code",
      "source": [
        "# Creating a list\n",
        "my_list = [1, 2, 3, 4, 5]\n",
        "print(\"Original list:\", my_list)\n",
        "\n",
        "# changing an element in the list\n",
        "my_list[0] = 10\n",
        "print(\"List after changing element:\", my_list)\n",
        "\n",
        "# Creating a tuple\n",
        "my_tuple = (1, 2, 3, 4, 5)\n",
        "print(\"\\nOriginal tuple:\", my_tuple)\n",
        "\n",
        "# changing an element in the tuple\n",
        "try:\n",
        "    my_tuple[0] = 10\n",
        "except TypeError as e:\n",
        "    print(\"Attempting to change element in tuple results in:\", e)"
      ],
      "metadata": {
        "colab": {
          "base_uri": "https://localhost:8080/"
        },
        "id": "tgrSMt0lGFWO",
        "outputId": "ec5f2de0-bf5a-4e8a-9777-33c9497a9bfa"
      },
      "execution_count": 5,
      "outputs": [
        {
          "output_type": "stream",
          "name": "stdout",
          "text": [
            "Original list: [1, 2, 3, 4, 5]\n",
            "List after changing element: [10, 2, 3, 4, 5]\n",
            "\n",
            "Original tuple: (1, 2, 3, 4, 5)\n",
            "Attempting to change element in tuple results in: 'tuple' object does not support item assignment\n"
          ]
        }
      ]
    },
    {
      "cell_type": "markdown",
      "source": [
        "# 6.  Write a function to demonstrate the behavior of mutable and immutable arguments"
      ],
      "metadata": {
        "id": "KTgtkrRzGHzg"
      }
    },
    {
      "cell_type": "code",
      "source": [
        "def modify_data(a, b):\n",
        "    a += 1\n",
        "    b.append(4)\n",
        "    print(\"Inside function:\")\n",
        "    print(\"a =\", a)\n",
        "    print(\"b =\", b)\n",
        "\n",
        "# Immutable (integer) and Mutable (list)\n",
        "x = 10\n",
        "y = [1, 2, 3]\n",
        "\n",
        "modify_data(x, y)\n",
        "\n",
        "print(\"Outside function:\")\n",
        "print(\"x =\", x)\n",
        "print(\"y =\", y)\n"
      ],
      "metadata": {
        "colab": {
          "base_uri": "https://localhost:8080/"
        },
        "id": "LDBgFLP7Ga4M",
        "outputId": "7f24fc50-4631-493c-94b7-f5302352aa25"
      },
      "execution_count": 6,
      "outputs": [
        {
          "output_type": "stream",
          "name": "stdout",
          "text": [
            "Inside function:\n",
            "a = 11\n",
            "b = [1, 2, 3, 4]\n",
            "Outside function:\n",
            "x = 10\n",
            "y = [1, 2, 3, 4]\n"
          ]
        }
      ]
    },
    {
      "cell_type": "markdown",
      "source": [
        "# 7.  Write a program that performs basic arithmetic operations on two user-input numbers.\n",
        "\n"
      ],
      "metadata": {
        "id": "xmbasHYFGo0X"
      }
    },
    {
      "cell_type": "code",
      "source": [
        "num1 = float(input(\"Enter first number: \"))\n",
        "num2 = float(input(\"Enter second number: \"))\n",
        "\n",
        "print(\"Sum:\", num1 + num2)\n",
        "print(\"Difference:\", num1 - num2)\n",
        "print(\"Product:\", num1 * num2)\n",
        "if num2 != 0:\n",
        "    print(\"Division:\", num1 / num2)\n",
        "else:\n",
        "    print(\"Cannot divide by zero\")"
      ],
      "metadata": {
        "colab": {
          "base_uri": "https://localhost:8080/"
        },
        "id": "395BfF0PG3we",
        "outputId": "73801b93-4bd8-41a9-ddd2-cd408c07c603"
      },
      "execution_count": 7,
      "outputs": [
        {
          "output_type": "stream",
          "name": "stdout",
          "text": [
            "Enter first number: 6\n",
            "Enter second number: 10\n",
            "Sum: 16.0\n",
            "Difference: -4.0\n",
            "Product: 60.0\n",
            "Division: 0.6\n"
          ]
        }
      ]
    },
    {
      "cell_type": "markdown",
      "source": [
        "# 8.  Write a program to demonstrate the use of logical operators."
      ],
      "metadata": {
        "id": "OWoDntycG7bm"
      }
    },
    {
      "cell_type": "code",
      "source": [
        "a = 10\n",
        "b = 5\n",
        "\n",
        "print(a > 5 and b < 10)   # True and True => True\n",
        "print(a < 5 or b < 10)    # False or True => True\n",
        "print(not(a == 10))       # not True => False\n"
      ],
      "metadata": {
        "colab": {
          "base_uri": "https://localhost:8080/"
        },
        "id": "Ah8H1eapHM9U",
        "outputId": "e3c123f7-be4b-4ccd-ce8e-10b13c77022e"
      },
      "execution_count": 8,
      "outputs": [
        {
          "output_type": "stream",
          "name": "stdout",
          "text": [
            "True\n",
            "True\n",
            "False\n"
          ]
        }
      ]
    },
    {
      "cell_type": "markdown",
      "source": [
        "# 9.  Write a Python program to convert user input from string to integer, float, and boolean types"
      ],
      "metadata": {
        "id": "9gkE6MCbHO3M"
      }
    },
    {
      "cell_type": "code",
      "source": [
        "user_input = input(\"Enter a value: \")\n",
        "\n",
        "# Converting to integer\n",
        "int_value = int(user_input)\n",
        "\n",
        "# Convertinng to float\n",
        "float_value = float(user_input)\n",
        "\n",
        "# Converting to boolean\n",
        "bool_value = bool(user_input)\n",
        "\n",
        "print(\"Integer:\", int_value)\n",
        "print(\"Float:\", float_value)\n",
        "print(\"Boolean:\", bool_value)\n"
      ],
      "metadata": {
        "colab": {
          "base_uri": "https://localhost:8080/"
        },
        "id": "tx6eDjWoHiDh",
        "outputId": "413a484a-8fea-42b9-aa08-bb55f6499dcf"
      },
      "execution_count": 9,
      "outputs": [
        {
          "output_type": "stream",
          "name": "stdout",
          "text": [
            "Enter a value: 2\n",
            "Integer: 2\n",
            "Float: 2.0\n",
            "Boolean: True\n"
          ]
        }
      ]
    },
    {
      "cell_type": "markdown",
      "source": [
        "# 10.  Write code to demonstrate type casting with list elements."
      ],
      "metadata": {
        "id": "m59OIr_-Ht3z"
      }
    },
    {
      "cell_type": "code",
      "source": [
        "# List of strings\n",
        "str_list = [\"1\", \"2\", \"3\", \"4\"]\n",
        "\n",
        "# Converting each element to integer\n",
        "int_list = [int(x) for x in str_list]\n",
        "\n",
        "# Converting each element to float\n",
        "float_list = [float(x) for x in str_list]\n",
        "\n",
        "print(\"Original list (strings):\", str_list)\n",
        "print(\"Converted to integers:\", int_list)\n",
        "print(\"Converted to floats:\", float_list)\n"
      ],
      "metadata": {
        "colab": {
          "base_uri": "https://localhost:8080/"
        },
        "id": "swqUK0rwIKrY",
        "outputId": "ba1c1b27-bd5a-4f71-b693-c864203dbc12"
      },
      "execution_count": 10,
      "outputs": [
        {
          "output_type": "stream",
          "name": "stdout",
          "text": [
            "Original list (strings): ['1', '2', '3', '4']\n",
            "Converted to integers: [1, 2, 3, 4]\n",
            "Converted to floats: [1.0, 2.0, 3.0, 4.0]\n"
          ]
        }
      ]
    },
    {
      "cell_type": "markdown",
      "source": [
        "# 11. Write a program that checks if a number is positive, negative, or zero"
      ],
      "metadata": {
        "id": "K-YzBIsoIQaA"
      }
    },
    {
      "cell_type": "code",
      "source": [
        "num = float(input(\"Enter a number: \"))\n",
        "\n",
        "if num > 0:\n",
        "    print(\"The number is positive.\")\n",
        "elif num < 0:\n",
        "    print(\"The number is negative.\")\n",
        "else:\n",
        "    print(\"The number is zero.\")\n"
      ],
      "metadata": {
        "colab": {
          "base_uri": "https://localhost:8080/"
        },
        "id": "J2POhZxMIXgx",
        "outputId": "db1af2a8-2ab2-40f8-aa8b-f41a0062d0e4"
      },
      "execution_count": 11,
      "outputs": [
        {
          "output_type": "stream",
          "name": "stdout",
          "text": [
            "Enter a number: 8\n",
            "The number is positive.\n"
          ]
        }
      ]
    },
    {
      "cell_type": "markdown",
      "source": [
        "# 12.  Write a for loop to print numbers from 1 to 10."
      ],
      "metadata": {
        "id": "UzzVTX8GIggi"
      }
    },
    {
      "cell_type": "code",
      "source": [
        "for i in range(1, 11):\n",
        "    print(i)\n"
      ],
      "metadata": {
        "colab": {
          "base_uri": "https://localhost:8080/"
        },
        "id": "3GyvumACIkwQ",
        "outputId": "5ead36d0-a34d-404f-8de2-09f9e1dc7f6b"
      },
      "execution_count": 12,
      "outputs": [
        {
          "output_type": "stream",
          "name": "stdout",
          "text": [
            "1\n",
            "2\n",
            "3\n",
            "4\n",
            "5\n",
            "6\n",
            "7\n",
            "8\n",
            "9\n",
            "10\n"
          ]
        }
      ]
    },
    {
      "cell_type": "markdown",
      "source": [
        "# 13. Write a Python program to find the sum of all even numbers between 1 and 50."
      ],
      "metadata": {
        "id": "CtZHov0cIpm7"
      }
    },
    {
      "cell_type": "code",
      "source": [
        "sum_even = 0\n",
        "\n",
        "for i in range(1, 51):\n",
        "    if i % 2 == 0:\n",
        "        sum_even += i\n",
        "\n",
        "print(\"Sum of even numbers from 1 to 50 is:\", sum_even)\n"
      ],
      "metadata": {
        "colab": {
          "base_uri": "https://localhost:8080/"
        },
        "id": "lViqzc4yI35P",
        "outputId": "d024268f-1eb3-463c-f0df-63e5d90a13e2"
      },
      "execution_count": 13,
      "outputs": [
        {
          "output_type": "stream",
          "name": "stdout",
          "text": [
            "Sum of even numbers from 1 to 50 is: 650\n"
          ]
        }
      ]
    },
    {
      "cell_type": "markdown",
      "source": [
        "# 14.  Write a program to reverse a string using a while loop."
      ],
      "metadata": {
        "id": "3y38b0bYI9AY"
      }
    },
    {
      "cell_type": "code",
      "source": [
        "text = input(\"Enter a string: \")\n",
        "reversed_text = \"\"\n",
        "i = len(text) - 1\n",
        "\n",
        "while i >= 0:\n",
        "    reversed_text += text[i]\n",
        "    i -= 1\n",
        "\n",
        "print(\"Reversed string:\", reversed_text)\n"
      ],
      "metadata": {
        "colab": {
          "base_uri": "https://localhost:8080/"
        },
        "id": "_tm_oYs-JIIB",
        "outputId": "24d420a6-7244-454d-c18c-7baae8ff9cb6"
      },
      "execution_count": 14,
      "outputs": [
        {
          "output_type": "stream",
          "name": "stdout",
          "text": [
            "Enter a string: Dibyendu\n",
            "Reversed string: udneybiD\n"
          ]
        }
      ]
    },
    {
      "cell_type": "markdown",
      "source": [
        "# 15.  Write a Python program to calculate the factorial of a number provided by the user using a while loop."
      ],
      "metadata": {
        "id": "z2rqynHLJR3Q"
      }
    },
    {
      "cell_type": "code",
      "source": [
        "num = int(input(\"Enter a number: \"))\n",
        "factorial = 1\n",
        "i = 1\n",
        "\n",
        "while i <= num:\n",
        "    factorial *= i\n",
        "    i += 1\n",
        "\n",
        "print(\"Factorial of\", num, \"is:\", factorial)\n"
      ],
      "metadata": {
        "colab": {
          "base_uri": "https://localhost:8080/"
        },
        "id": "Mntsn-t7JeXa",
        "outputId": "aed29896-e79d-4b18-fef4-70a72cbb5716"
      },
      "execution_count": 15,
      "outputs": [
        {
          "output_type": "stream",
          "name": "stdout",
          "text": [
            "Enter a number: 9\n",
            "Factorial of 9 is: 362880\n"
          ]
        }
      ]
    }
  ]
}